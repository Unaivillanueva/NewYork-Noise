{
 "cells": [
  {
   "cell_type": "code",
   "execution_count": 145,
   "metadata": {
    "collapsed": false
   },
   "outputs": [],
   "source": [
    "%matplotlib inline\n",
    "import numpy as np\n",
    "import pandas as pd\n",
    "import csv\n",
    "import geoplotlib\n",
    "from collections import defaultdict"
   ]
  },
  {
   "cell_type": "code",
   "execution_count": 146,
   "metadata": {
    "collapsed": true
   },
   "outputs": [],
   "source": [
    "def readfile(filename):\n",
    "    data = pd.read_csv(filename)\n",
    "    return data\n",
    "\n",
    "# change this to your local file\n",
    "filename = 'NYNoise.csv'\n",
    "# read file\n",
    "data = readfile(filename)\n"
   ]
  },
  {
   "cell_type": "code",
   "execution_count": 147,
   "metadata": {
    "collapsed": true
   },
   "outputs": [],
   "source": [
    "#add a column with the year from the Date\n",
    "data['year'] = pd.DatetimeIndex(data['Created Date']).year"
   ]
  },
  {
   "cell_type": "code",
   "execution_count": 148,
   "metadata": {
    "collapsed": true
   },
   "outputs": [],
   "source": [
    "# filter the dataset. Just keep the rows that belong to year 2016.\n",
    "data2016 = data[data['year'] == 2016]"
   ]
  },
  {
   "cell_type": "code",
   "execution_count": 149,
   "metadata": {
    "collapsed": false,
    "scrolled": true
   },
   "outputs": [
    {
     "data": {
      "text/html": [
       "<div>\n",
       "<table border=\"1\" class=\"dataframe\">\n",
       "  <thead>\n",
       "    <tr style=\"text-align: right;\">\n",
       "      <th></th>\n",
       "      <th>Unique Key</th>\n",
       "      <th>Created Date</th>\n",
       "      <th>Closed Date</th>\n",
       "      <th>Agency</th>\n",
       "      <th>Agency Name</th>\n",
       "      <th>Complaint Type</th>\n",
       "      <th>Descriptor</th>\n",
       "      <th>Location Type</th>\n",
       "      <th>Incident Zip</th>\n",
       "      <th>Incident Address</th>\n",
       "      <th>...</th>\n",
       "      <th>Bridge Highway Direction</th>\n",
       "      <th>Road Ramp</th>\n",
       "      <th>Bridge Highway Segment</th>\n",
       "      <th>Garage Lot Name</th>\n",
       "      <th>Ferry Direction</th>\n",
       "      <th>Ferry Terminal Name</th>\n",
       "      <th>Latitude</th>\n",
       "      <th>Longitude</th>\n",
       "      <th>Location</th>\n",
       "      <th>year</th>\n",
       "    </tr>\n",
       "  </thead>\n",
       "  <tbody>\n",
       "    <tr>\n",
       "      <th>170</th>\n",
       "      <td>32316013</td>\n",
       "      <td>01/02/2016 02:52:00 PM</td>\n",
       "      <td>05/23/2016 01:30:00 PM</td>\n",
       "      <td>DEP</td>\n",
       "      <td>Department of Environmental Protection</td>\n",
       "      <td>Noise</td>\n",
       "      <td>Noise: air condition/ventilation equipment (NV1)</td>\n",
       "      <td>NaN</td>\n",
       "      <td>11212.0</td>\n",
       "      <td>76 REMSEN AVENUE</td>\n",
       "      <td>...</td>\n",
       "      <td>NaN</td>\n",
       "      <td>NaN</td>\n",
       "      <td>NaN</td>\n",
       "      <td>NaN</td>\n",
       "      <td>NaN</td>\n",
       "      <td>NaN</td>\n",
       "      <td>40.661935</td>\n",
       "      <td>-73.930165</td>\n",
       "      <td>(40.66193535945621, -73.93016485789653)</td>\n",
       "      <td>2016</td>\n",
       "    </tr>\n",
       "    <tr>\n",
       "      <th>171</th>\n",
       "      <td>32319864</td>\n",
       "      <td>01/02/2016 08:47:00 AM</td>\n",
       "      <td>01/09/2016 08:30:00 AM</td>\n",
       "      <td>DEP</td>\n",
       "      <td>Department of Environmental Protection</td>\n",
       "      <td>Noise</td>\n",
       "      <td>Noise: Construction Before/After Hours (NM1)</td>\n",
       "      <td>NaN</td>\n",
       "      <td>11355.0</td>\n",
       "      <td>43-16 UNION STREET</td>\n",
       "      <td>...</td>\n",
       "      <td>NaN</td>\n",
       "      <td>NaN</td>\n",
       "      <td>NaN</td>\n",
       "      <td>NaN</td>\n",
       "      <td>NaN</td>\n",
       "      <td>NaN</td>\n",
       "      <td>40.754347</td>\n",
       "      <td>-73.821371</td>\n",
       "      <td>(40.75434676643549, -73.82137094935233)</td>\n",
       "      <td>2016</td>\n",
       "    </tr>\n",
       "    <tr>\n",
       "      <th>172</th>\n",
       "      <td>32320142</td>\n",
       "      <td>01/02/2016 09:05:00 PM</td>\n",
       "      <td>01/12/2016 02:45:00 PM</td>\n",
       "      <td>DEP</td>\n",
       "      <td>Department of Environmental Protection</td>\n",
       "      <td>Noise</td>\n",
       "      <td>Noise: air condition/ventilation equipment (NV1)</td>\n",
       "      <td>NaN</td>\n",
       "      <td>10025.0</td>\n",
       "      <td>2686 BROADWAY</td>\n",
       "      <td>...</td>\n",
       "      <td>NaN</td>\n",
       "      <td>NaN</td>\n",
       "      <td>NaN</td>\n",
       "      <td>NaN</td>\n",
       "      <td>NaN</td>\n",
       "      <td>NaN</td>\n",
       "      <td>40.798817</td>\n",
       "      <td>-73.968740</td>\n",
       "      <td>(40.79881676206265, -73.96873982214959)</td>\n",
       "      <td>2016</td>\n",
       "    </tr>\n",
       "    <tr>\n",
       "      <th>173</th>\n",
       "      <td>32325036</td>\n",
       "      <td>01/03/2016 07:05:00 AM</td>\n",
       "      <td>01/04/2016 10:40:00 AM</td>\n",
       "      <td>DEP</td>\n",
       "      <td>Department of Environmental Protection</td>\n",
       "      <td>Noise</td>\n",
       "      <td>Noise, Barking Dog (NR5)</td>\n",
       "      <td>NaN</td>\n",
       "      <td>10312.0</td>\n",
       "      <td>70 RAMONA AVENUE</td>\n",
       "      <td>...</td>\n",
       "      <td>NaN</td>\n",
       "      <td>NaN</td>\n",
       "      <td>NaN</td>\n",
       "      <td>NaN</td>\n",
       "      <td>NaN</td>\n",
       "      <td>NaN</td>\n",
       "      <td>40.541135</td>\n",
       "      <td>-74.188306</td>\n",
       "      <td>(40.541135407737606, -74.18830591469624)</td>\n",
       "      <td>2016</td>\n",
       "    </tr>\n",
       "    <tr>\n",
       "      <th>174</th>\n",
       "      <td>32328843</td>\n",
       "      <td>01/04/2016 12:23:00 PM</td>\n",
       "      <td>01/06/2016 12:28:00 PM</td>\n",
       "      <td>DEP</td>\n",
       "      <td>Department of Environmental Protection</td>\n",
       "      <td>Noise</td>\n",
       "      <td>Noise: air condition/ventilation equipment (NV1)</td>\n",
       "      <td>NaN</td>\n",
       "      <td>10025.0</td>\n",
       "      <td>2528 BROADWAY</td>\n",
       "      <td>...</td>\n",
       "      <td>NaN</td>\n",
       "      <td>NaN</td>\n",
       "      <td>NaN</td>\n",
       "      <td>NaN</td>\n",
       "      <td>NaN</td>\n",
       "      <td>NaN</td>\n",
       "      <td>40.793660</td>\n",
       "      <td>-73.972498</td>\n",
       "      <td>(40.793660374788146, -73.97249823045138)</td>\n",
       "      <td>2016</td>\n",
       "    </tr>\n",
       "  </tbody>\n",
       "</table>\n",
       "<p>5 rows × 54 columns</p>\n",
       "</div>"
      ],
      "text/plain": [
       "     Unique Key            Created Date             Closed Date Agency  \\\n",
       "170    32316013  01/02/2016 02:52:00 PM  05/23/2016 01:30:00 PM    DEP   \n",
       "171    32319864  01/02/2016 08:47:00 AM  01/09/2016 08:30:00 AM    DEP   \n",
       "172    32320142  01/02/2016 09:05:00 PM  01/12/2016 02:45:00 PM    DEP   \n",
       "173    32325036  01/03/2016 07:05:00 AM  01/04/2016 10:40:00 AM    DEP   \n",
       "174    32328843  01/04/2016 12:23:00 PM  01/06/2016 12:28:00 PM    DEP   \n",
       "\n",
       "                                Agency Name Complaint Type  \\\n",
       "170  Department of Environmental Protection          Noise   \n",
       "171  Department of Environmental Protection          Noise   \n",
       "172  Department of Environmental Protection          Noise   \n",
       "173  Department of Environmental Protection          Noise   \n",
       "174  Department of Environmental Protection          Noise   \n",
       "\n",
       "                                           Descriptor  Location Type  \\\n",
       "170  Noise: air condition/ventilation equipment (NV1)            NaN   \n",
       "171      Noise: Construction Before/After Hours (NM1)            NaN   \n",
       "172  Noise: air condition/ventilation equipment (NV1)            NaN   \n",
       "173                          Noise, Barking Dog (NR5)            NaN   \n",
       "174  Noise: air condition/ventilation equipment (NV1)            NaN   \n",
       "\n",
       "     Incident Zip    Incident Address  ...  Bridge Highway Direction  \\\n",
       "170       11212.0    76 REMSEN AVENUE  ...                       NaN   \n",
       "171       11355.0  43-16 UNION STREET  ...                       NaN   \n",
       "172       10025.0       2686 BROADWAY  ...                       NaN   \n",
       "173       10312.0    70 RAMONA AVENUE  ...                       NaN   \n",
       "174       10025.0       2528 BROADWAY  ...                       NaN   \n",
       "\n",
       "    Road Ramp Bridge Highway Segment Garage Lot Name Ferry Direction  \\\n",
       "170       NaN                    NaN             NaN             NaN   \n",
       "171       NaN                    NaN             NaN             NaN   \n",
       "172       NaN                    NaN             NaN             NaN   \n",
       "173       NaN                    NaN             NaN             NaN   \n",
       "174       NaN                    NaN             NaN             NaN   \n",
       "\n",
       "    Ferry Terminal Name   Latitude  Longitude  \\\n",
       "170                 NaN  40.661935 -73.930165   \n",
       "171                 NaN  40.754347 -73.821371   \n",
       "172                 NaN  40.798817 -73.968740   \n",
       "173                 NaN  40.541135 -74.188306   \n",
       "174                 NaN  40.793660 -73.972498   \n",
       "\n",
       "                                     Location  year  \n",
       "170   (40.66193535945621, -73.93016485789653)  2016  \n",
       "171   (40.75434676643549, -73.82137094935233)  2016  \n",
       "172   (40.79881676206265, -73.96873982214959)  2016  \n",
       "173  (40.541135407737606, -74.18830591469624)  2016  \n",
       "174  (40.793660374788146, -73.97249823045138)  2016  \n",
       "\n",
       "[5 rows x 54 columns]"
      ]
     },
     "execution_count": 149,
     "metadata": {},
     "output_type": "execute_result"
    }
   ],
   "source": [
    "data2016.head()"
   ]
  },
  {
   "cell_type": "code",
   "execution_count": 150,
   "metadata": {
    "collapsed": false
   },
   "outputs": [],
   "source": [
    "#data2016.to_csv(\"2016.csv\")\n",
    "#data2016=pd.read_csv(\"2016.csv\")"
   ]
  },
  {
   "cell_type": "code",
   "execution_count": 151,
   "metadata": {
    "collapsed": false
   },
   "outputs": [
    {
     "name": "stdout",
     "output_type": "stream",
     "text": [
      "(40.66193535945621, -73.93016485789653)\n"
     ]
    }
   ],
   "source": [
    "print data2016['Location'].values[0]"
   ]
  },
  {
   "cell_type": "code",
   "execution_count": 152,
   "metadata": {
    "collapsed": false
   },
   "outputs": [],
   "source": [
    "import math\n",
    "i=0\n",
    "noise_loc_cluster=[]\n",
    "\n",
    "latitudes = [float(item) for item in data2016['Latitude'] if not math.isnan(item)]\n",
    "longitudes = [float(item) for item in data2016['Longitude'] if not math.isnan(item)]\n",
    "\n",
    "for i in range(len(latitudes)):\n",
    "    noise_loc_cluster.append([latitudes[i],longitudes[i]])\n",
    "\n"
   ]
  },
  {
   "cell_type": "code",
   "execution_count": 153,
   "metadata": {
    "collapsed": true
   },
   "outputs": [],
   "source": [
    "noise_cluster_list=list(noise_loc_cluster)"
   ]
  },
  {
   "cell_type": "code",
   "execution_count": 154,
   "metadata": {
    "collapsed": false
   },
   "outputs": [],
   "source": [
    "from sklearn.cluster import KMeans\n",
    "clusters = []\n",
    "for k in range(2, 7):\n",
    "    cls = KMeans(n_clusters=k)\n",
    "    cls.fit(noise_cluster_list)\n",
    "    clusters.append(cls)"
   ]
  },
  {
   "cell_type": "code",
   "execution_count": 155,
   "metadata": {
    "collapsed": false
   },
   "outputs": [
    {
     "name": "stdout",
     "output_type": "stream",
     "text": [
      "[KMeans(algorithm='auto', copy_x=True, init='k-means++', max_iter=300,\n",
      "    n_clusters=2, n_init=10, n_jobs=1, precompute_distances='auto',\n",
      "    random_state=None, tol=0.0001, verbose=0), KMeans(algorithm='auto', copy_x=True, init='k-means++', max_iter=300,\n",
      "    n_clusters=3, n_init=10, n_jobs=1, precompute_distances='auto',\n",
      "    random_state=None, tol=0.0001, verbose=0), KMeans(algorithm='auto', copy_x=True, init='k-means++', max_iter=300,\n",
      "    n_clusters=4, n_init=10, n_jobs=1, precompute_distances='auto',\n",
      "    random_state=None, tol=0.0001, verbose=0), KMeans(algorithm='auto', copy_x=True, init='k-means++', max_iter=300,\n",
      "    n_clusters=5, n_init=10, n_jobs=1, precompute_distances='auto',\n",
      "    random_state=None, tol=0.0001, verbose=0), KMeans(algorithm='auto', copy_x=True, init='k-means++', max_iter=300,\n",
      "    n_clusters=6, n_init=10, n_jobs=1, precompute_distances='auto',\n",
      "    random_state=None, tol=0.0001, verbose=0)]\n"
     ]
    }
   ],
   "source": [
    "print clusters"
   ]
  },
  {
   "cell_type": "code",
   "execution_count": 156,
   "metadata": {
    "collapsed": false
   },
   "outputs": [
    {
     "name": "stdout",
     "output_type": "stream",
     "text": [
      "centers: [[40.70593440223117, -73.98397827167807], [40.776246682974374, -73.88976182253366]]\n",
      "data: [40.66193535945621, -73.93016485789653, 0, 2, 0, 1, 1]\n"
     ]
    }
   ],
   "source": [
    "# Export: list of [point_x, point_y, label_2means,label_3means]\n",
    "export_data = []\n",
    "for i in range(len(noise_cluster_list)):\n",
    "    export_data.append([noise_cluster_list[i][0], noise_cluster_list[i][1], clusters[0].labels_[i], clusters[1].labels_[i], clusters[2].labels_[i], clusters[3].labels_[i], clusters[4].labels_[i]])\n",
    "    \n",
    "export_data_centers = [cls.cluster_centers_.tolist() for cls in clusters]\n",
    "export_json = {'centers': export_data_centers, 'data': export_data}\n",
    "\n",
    "print \"centers:\", export_data_centers[0]\n",
    "print \"data:\", export_data[0]"
   ]
  },
  {
   "cell_type": "code",
   "execution_count": 157,
   "metadata": {
    "collapsed": false
   },
   "outputs": [],
   "source": [
    "import json\n",
    "\n",
    "with open('kmeans.json', 'w') as outfile:\n",
    "    json.dump(export_json, outfile)"
   ]
  }
 ],
 "metadata": {
  "kernelspec": {
   "display_name": "Python 2",
   "language": "python",
   "name": "python2"
  },
  "language_info": {
   "codemirror_mode": {
    "name": "ipython",
    "version": 2
   },
   "file_extension": ".py",
   "mimetype": "text/x-python",
   "name": "python",
   "nbconvert_exporter": "python",
   "pygments_lexer": "ipython2",
   "version": "2.7.13"
  }
 },
 "nbformat": 4,
 "nbformat_minor": 2
}
